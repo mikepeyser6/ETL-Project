{
 "cells": [
  {
   "cell_type": "code",
   "execution_count": 1,
   "metadata": {},
   "outputs": [],
   "source": [
    "import pandas as pd\n",
    "import json\n",
    "from pprint import pprint\n",
    "from sqlalchemy import create_engine"
   ]
  },
  {
   "cell_type": "code",
   "execution_count": 2,
   "metadata": {},
   "outputs": [],
   "source": [
    "#read in csv utilizing pandas\n",
    "poverty_csv=pd.read_csv('countypoverty.csv')\n",
    "#drop all irrelevant columns\n",
    "fixed_csv=poverty_csv.drop(['FIPStxt','CI90LBAll_2018','CI90UBALL_2018','CI90LBALLP_2018','CI90UBALLP_2018','CI90LB017_2018','CI90UB017_2018','CI90LB017P_2018','CI90UB017P_2018','POV517_2018','CI90LB517_2018',\n",
    "               'CI90UB517_2018','PCTPOV517_2018','CI90LB517P_2018','CI90UB517P_2018','CI90LBINC_2018','CI90UBINC_2018','POV04_2018','CI90LB04_2018','CI90UB04_2018','PCTPOV04_2018','CI90LB04P_2018',\n",
    "               'CI90UB04P_2018'],axis=1)\n",
    "#rename relevant columns appropriately\n",
    "poverty_df=fixed_csv.rename(columns={'Stabr':'abbreviation','Area_name':'area_name','POVALL_2018':'impoverished_population','PCTPOVALL_2018':'percentage_of_impoverished_population','POV017_2018':'impoverished_children','PCTPOV017_2018':'percentage_of_imporverished_children','MEDHHINC_2018':'median_household_income'})\n",
    "poverty_df=poverty_df.rename_axis(index='id')\n",
    "poverty_df=poverty_df.reset_index()\n",
    "poverty_df.set_index(\"id\",inplace=True)"
   ]
  },
  {
   "cell_type": "code",
   "execution_count": 3,
   "metadata": {},
   "outputs": [],
   "source": [
    "#yelp_json=pd.read_json('yelp_academic_dataset_business.json',lines=True)\n",
    "#fixed_json=yelp_json.drop(['business_id','address','postal_code','latitude','longitude','attributes','hours'],axis=1)\n",
    "#yelp_df=fixed_json.rename(columns={'name':'Business Name','city':'City','state':'State','stars':'Rating out of 5','review_count':'Review Count','is_open':'Open?','categories':'Categories'})\n",
    "county=[]\n",
    "state=[]\n",
    "enrollees=[]\n",
    "with open('VAEnrolleesByCountyFY2015.json') as json_file:\n",
    "    data=json.load(json_file)\n",
    "    for d in data['DataByCounty']:\n",
    "        county.append(d['CountyName'])\n",
    "        state.append(d['StateAbbrev'])\n",
    "        enrollees.append(d['VeteranEnrollees'])\n",
    "almost=pd.DataFrame(list(zip(county, state,enrollees)),)\n",
    "prettymuch=almost.rename(columns={0:'county',1:'state',2:'va_enrollees'})\n",
    "#prettymuch.loc[prettymuch['State']!=['GU','PR','VI']]\n",
    "once=prettymuch.loc[prettymuch['state']!='GU']\n",
    "twice=once.loc[once['state']!='PR']\n",
    "threetimes=twice.loc[twice['state']!='VI']\n",
    "va_df=threetimes.loc[threetimes['county']!='Unassigned']\n",
    "va_df=va_df.rename_axis(index='id')\n",
    "va_df=va_df.reset_index()\n",
    "va_df.set_index(\"id\", inplace=True)"
   ]
  },
  {
   "cell_type": "code",
   "execution_count": 5,
   "metadata": {},
   "outputs": [
    {
     "data": {
      "text/plain": [
       "['poverty', 'enrollees']"
      ]
     },
     "execution_count": 5,
     "metadata": {},
     "output_type": "execute_result"
    }
   ],
   "source": [
    "connection_string = \"postgres:postgres@localhost:5432/ETL_db\"\n",
    "engine = create_engine(f'postgresql://{connection_string}')\n",
    "engine.table_names()"
   ]
  },
  {
   "cell_type": "code",
   "execution_count": 7,
   "metadata": {},
   "outputs": [],
   "source": [
    "poverty_df.to_sql(name='poverty', con=engine, if_exists='append', index=True)\n",
    "va_df.to_sql(name='enrollees', con=engine, if_exists='append', index=True)"
   ]
  },
  {
   "cell_type": "code",
   "execution_count": null,
   "metadata": {},
   "outputs": [],
   "source": []
  }
 ],
 "metadata": {
  "kernelspec": {
   "display_name": "Python 3",
   "language": "python",
   "name": "python3"
  },
  "language_info": {
   "codemirror_mode": {
    "name": "ipython",
    "version": 3
   },
   "file_extension": ".py",
   "mimetype": "text/x-python",
   "name": "python",
   "nbconvert_exporter": "python",
   "pygments_lexer": "ipython3",
   "version": "3.7.6"
  }
 },
 "nbformat": 4,
 "nbformat_minor": 4
}
